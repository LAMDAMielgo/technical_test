{
 "cells": [
  {
   "cell_type": "markdown",
   "metadata": {},
   "source": [
    "## PRUEBA NOTEBOOK"
   ]
  },
  {
   "cell_type": "code",
   "execution_count": 21,
   "metadata": {},
   "outputs": [
    {
     "data": {
      "text/plain": [
       "'https://gist.github.com/juanriaza/9b6f7ab3fc1cbda81100fa5d32512fd8/raw/a61db2d8d81789d5c7040eacee7b225bc2b2aa7f/data.csv.bz2'"
      ]
     },
     "execution_count": 21,
     "metadata": {},
     "output_type": "execute_result"
    }
   ],
   "source": [
    "import bz2\n",
    "import csv\n",
    "import os\n",
    "import requests\n",
    "\n",
    "import pandas as pd\n",
    "import numpy as np\n",
    "\n",
    "from typing import List\n",
    "\n",
    "LOCAL_DATA_PATH = os.path.join(os.getcwd(), 'data')\n",
    "\n",
    "base_url = 'https://gist.github.com/juanriaza/9b6f7ab3fc1cbda81100fa5d32512fd8/raw/a61db2d8d81789d5c7040eacee7b225bc2b2aa7f'\n",
    "file_name = 'data.csv.bz2'\n",
    "\n",
    "url = os.path.join(base_url, file_name)\n",
    "url"
   ]
  },
  {
   "cell_type": "markdown",
   "metadata": {},
   "source": [
    "### Download the data from the provided link"
   ]
  },
  {
   "cell_type": "code",
   "execution_count": 22,
   "metadata": {},
   "outputs": [],
   "source": [
    "DATA_DELIMITER = '|'\n",
    "DATA_ENCODING = 'utf-8'\n",
    "\n",
    "def fetch_data(url:str) -> List:\n",
    "    \"\"\" Given an url with bz2 file and a target directory, this function makes a\n",
    "    GET request to the file and decompress it.\n",
    "\n",
    "    It handles the following cases:\n",
    "        - Get request status has to be <200> Ok\n",
    "        - The is data within the BZ2\n",
    "\n",
    "    Args:\n",
    "        url (str) : location of file to download\n",
    "    \n",
    "    Returns: \n",
    "        data (list) : list of rows as string\n",
    "    \"\"\"\n",
    "\n",
    "    rq = requests.get(url)   \n",
    "\n",
    "    if rq.status_code == 200:\n",
    "        data = bz2.decompress(rq.content).decode(DATA_ENCODING).splitlines()\n",
    "\n",
    "        assert len(data) >0, f\"No data in file : {url}\"\n",
    "        return data\n",
    "\n",
    "    else:\n",
    "        raise FileNotFoundError\n",
    "    \n",
    "\n",
    "def write_to_csv(data:list, fname:str) -> None:\n",
    "    \"\"\" Given a list of rows, writes a CSV file in the target directory with the \n",
    "    specified name.\n",
    "\n",
    "    It handles the following cases:\n",
    "        - Checks the target directory exists or it creates it\n",
    "        - Checks the output file has .CSV as extention, if not, it adds it.\n",
    "\n",
    "    Args:\n",
    "        data (list)\n",
    "        target_dir (str)\n",
    "        fname (str)\n",
    "    \n",
    "    Returns\n",
    "        None\n",
    "    \"\"\"\n",
    "    if not os.path.exists(LOCAL_DATA_PATH):\n",
    "        os.mkdir(LOCAL_DATA_PATH)\n",
    "        \n",
    "    if not fname.endswith('.csv'):\n",
    "        fname += '.csv'\n",
    "\n",
    "    i = 0\n",
    "    path = os.path.join(LOCAL_DATA_PATH, fname)\n",
    "\n",
    "    with open(path, 'w') as f:\n",
    "        writer = csv.writer(f, delimiter = '|')\n",
    "\n",
    "        for row in data:\n",
    "            try:\n",
    "                writer.writerow(row.split('|'))\n",
    "                i +=1\n",
    "\n",
    "            except Exception as e:\n",
    "                # needs development\n",
    "                print(e)\n",
    "\n",
    "    print(f\"Written {i} lines at : {path}\")\n"
   ]
  },
  {
   "cell_type": "code",
   "execution_count": 23,
   "metadata": {},
   "outputs": [
    {
     "name": "stdout",
     "output_type": "stream",
     "text": [
      "Written 122375 lines at : /home/laura/Pruebas/technical_test/data/data.csv\n"
     ]
    }
   ],
   "source": [
    "write_to_csv(\n",
    "    data = fetch_data(url),\n",
    "    fname = 'data.csv'\n",
    ")"
   ]
  },
  {
   "cell_type": "markdown",
   "metadata": {},
   "source": [
    "### Set up a SQLite database locally and ingest the CSV file"
   ]
  },
  {
   "cell_type": "code",
   "execution_count": 8,
   "metadata": {},
   "outputs": [],
   "source": [
    "import sqlite3\n",
    "import sqlalchemy\n",
    "\n",
    "from pandas.io import sql\n",
    "\n",
    "%load_ext sql"
   ]
  },
  {
   "cell_type": "code",
   "execution_count": 10,
   "metadata": {},
   "outputs": [],
   "source": [
    "%config SqlMagic.autocommit=False"
   ]
  },
  {
   "cell_type": "code",
   "execution_count": 11,
   "metadata": {},
   "outputs": [],
   "source": [
    "%sql sqlite:///database.db"
   ]
  },
  {
   "cell_type": "code",
   "execution_count": 19,
   "metadata": {},
   "outputs": [
    {
     "data": {
      "text/plain": [
       "bytes"
      ]
     },
     "execution_count": 19,
     "metadata": {},
     "output_type": "execute_result"
    }
   ],
   "source": [
    "# paso 2 - carga de datos en sqlite"
   ]
  }
 ],
 "metadata": {
  "kernelspec": {
   "display_name": ".env",
   "language": "python",
   "name": "python3"
  },
  "language_info": {
   "codemirror_mode": {
    "name": "ipython",
    "version": 3
   },
   "file_extension": ".py",
   "mimetype": "text/x-python",
   "name": "python",
   "nbconvert_exporter": "python",
   "pygments_lexer": "ipython3",
   "version": "3.9.7"
  },
  "orig_nbformat": 4
 },
 "nbformat": 4,
 "nbformat_minor": 2
}
